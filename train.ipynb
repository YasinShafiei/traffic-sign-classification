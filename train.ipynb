{
 "cells": [
  {
   "cell_type": "markdown",
   "id": "36d87659",
   "metadata": {},
   "source": [
    "# Road sign classification (Train)\n",
    "\n",
    "## by Yasin Shafiei\n",
    "\n",
    "### project discription:\n",
    "This project will train a CNN model to classify road signs from GTSRB dataset. The CNN model was built with `pytorch`"
   ]
  },
  {
   "cell_type": "markdown",
   "id": "ab1503f1",
   "metadata": {},
   "source": [
    "### 1. read and ready the training data"
   ]
  },
  {
   "cell_type": "code",
   "execution_count": 1,
   "id": "470a7fda",
   "metadata": {},
   "outputs": [],
   "source": [
    "# import all librareis\n",
    "import os\n",
    "import numpy as np\n",
    "import torch\n",
    "from torchvision import transforms\n",
    "from torch.utils import data as data\n",
    "import torch.nn as nn\n",
    "from torchsummary import summary\n",
    "import torchvision\n",
    "import time\n",
    "import torch.optim as optim\n",
    "import matplotlib.pyplot as plt\n",
    "from sklearn.metrics import confusion_matrix\n",
    "from sklearn.metrics import classification_report\n",
    "import seaborn as sb\n",
    "%matplotlib inline"
   ]
  },
  {
   "cell_type": "markdown",
   "id": "3cb426bd",
   "metadata": {},
   "source": [
    "We should clear cache CUDA using `empty_cache()`"
   ]
  },
  {
   "cell_type": "code",
   "execution_count": 2,
   "id": "f9049cb4",
   "metadata": {},
   "outputs": [
    {
     "name": "stdout",
     "output_type": "stream",
     "text": [
      "CUDA cache cleared!\n"
     ]
    }
   ],
   "source": [
    "# clear cache\n",
    "torch.cuda.empty_cache()\n",
    "\n",
    "print(\"CUDA cache cleared!\")"
   ]
  },
  {
   "cell_type": "code",
   "execution_count": 3,
   "id": "e66e28e7",
   "metadata": {},
   "outputs": [],
   "source": [
    "# define hyperparameters\n",
    "BATCH_SIZE = 256\n",
    "EPOCHS = 22\n",
    "NUM_CLASSES = 43\n",
    "LEARNING_RATE = 0.001"
   ]
  },
  {
   "cell_type": "markdown",
   "id": "9c5b5edd",
   "metadata": {},
   "source": [
    "Now we have to read the data and split the training and validation data. \n",
    "85 percent of data is for training and 15 percents for validation"
   ]
  },
  {
   "cell_type": "code",
   "execution_count": 4,
   "id": "3b5a1a0f",
   "metadata": {},
   "outputs": [],
   "source": [
    "# define the transforms\n",
    "data_transforms = transforms.Compose([transforms.Resize([112, 112]), transforms.ToTensor()])\n",
    "# define the trainind data directory \n",
    "train_data_dir = \"data/Train\"\n",
    "# define training data\n",
    "training_data = torchvision.datasets.ImageFolder(root = train_data_dir, transform = data_transforms)\n",
    "\n",
    "# the training ratio\n",
    "ratio = 0.8\n",
    "\n",
    "# define number of training data and number of validation data\n",
    "n_training = int(len(training_data) * ratio)\n",
    "n_validation = len(training_data) - n_training\n",
    "\n",
    "# split the training and the test data\n",
    "training_data, validation_data = data.random_split(training_data, [n_training, n_validation])"
   ]
  },
  {
   "cell_type": "code",
   "execution_count": 5,
   "id": "707a7fcb",
   "metadata": {},
   "outputs": [
    {
     "name": "stdout",
     "output_type": "stream",
     "text": [
      "Number of training samples: 31351\n",
      "Number of validation samples: 7838\n"
     ]
    }
   ],
   "source": [
    "# show the number of training samples and validation samples\n",
    "print(f\"Number of training samples: {len(training_data)}\")\n",
    "print(f\"Number of validation samples: {len(validation_data)}\")"
   ]
  },
  {
   "cell_type": "markdown",
   "id": "79a01492",
   "metadata": {},
   "source": [
    "Now we splited the training and validaion data . Lets see a plot for training and validation data . I drew this plot using `matplotlib`"
   ]
  },
  {
   "cell_type": "code",
   "execution_count": 6,
   "id": "a731ef56",
   "metadata": {},
   "outputs": [
    {
     "data": {
      "image/png": "[encoded data removed]",
      "text/plain": [
       "<Figure size 432x288 with 1 Axes>"
      ]
     },
     "metadata": {},
     "output_type": "display_data"
    }
   ],
   "source": [
    "### training hist\n",
    "training_hist = [0] * NUM_CLASSES\n",
    "\n",
    "for i in training_data.indices:\n",
    "    tar = training_data.dataset.targets[i]\n",
    "    training_hist[tar] += 1\n",
    "    \n",
    "### validation hist\n",
    "validation_hist = [0] * NUM_CLASSES\n",
    "\n",
    "for i in validation_data.indices:\n",
    "    tar = validation_data.dataset.targets[i]\n",
    "    validation_hist[tar] += 1\n",
    "    \n",
    "# plot the bar graph\n",
    "sb.set()\n",
    "plt.bar(range(NUM_CLASSES), training_hist, label = \"train\")\n",
    "plt.bar(range(NUM_CLASSES), validation_hist, label=\"validation\")\n",
    "legend = plt.legend(loc='upper right', shadow=True)\n",
    "plt.xlabel(\"Class ID\")\n",
    "plt.ylabel(\"number of examples\")\n",
    "\n",
    "# save the plot\n",
    "plt.savefig(\"train_val_data.png\", bbox_inches = 'tight', pad_inches=0.5)"
   ]
  },
  {
   "cell_type": "markdown",
   "id": "c8e37aed",
   "metadata": {},
   "source": [
    "### 2. data loader "
   ]
  },
  {
   "cell_type": "code",
   "execution_count": 7,
   "id": "628e8b84",
   "metadata": {},
   "outputs": [],
   "source": [
    "# define the train and validation loader\n",
    "train_loader = data.DataLoader(training_data, shuffle = True, batch_size = BATCH_SIZE)\n",
    "validation_loader = data.DataLoader(validation_data, shuffle = True, batch_size = BATCH_SIZE)"
   ]
  },
  {
   "cell_type": "markdown",
   "id": "b934abfb",
   "metadata": {},
   "source": [
    "### 3. Convolutional Neural Networks Model"
   ]
  },
  {
   "cell_type": "code",
   "execution_count": 8,
   "id": "52e70360",
   "metadata": {},
   "outputs": [],
   "source": [
    "def count_parameters(model):\n",
    "    \"\"\"\n",
    "    This function will count the model trainable parameters\n",
    "    \"\"\"\n",
    "    # model parameters calculation\n",
    "    parameters = sum(p.numel() for p in model.parameters() if p.requires_grad)\n",
    "    \n",
    "    return parameters "
   ]
  },
  {
   "cell_type": "markdown",
   "id": "d50492bb",
   "metadata": {},
   "source": [
    "The Convolutional Neural Networks model: "
   ]
  },
  {
   "cell_type": "code",
   "execution_count": 9,
   "id": "9bb80c06",
   "metadata": {},
   "outputs": [],
   "source": [
    "class Model(nn.Module):\n",
    "    # __init__\n",
    "    def __init__(self, output_dim):\n",
    "        super().__init__()\n",
    "        \n",
    "        self.features = nn.Sequential(\n",
    "            # input conv layer \n",
    "            nn.Conv2d(in_channels=3, out_channels=64, kernel_size=3, stride=2, padding=1),\n",
    "            nn.MaxPool2d(kernel_size=2),\n",
    "            nn.ReLU(inplace=True),\n",
    "            \n",
    "            # conv layer 1\n",
    "            nn.Conv2d(in_channels=64, out_channels=128, kernel_size=3, padding=1),\n",
    "            nn.MaxPool2d(kernel_size=2),\n",
    "            nn.ReLU(inplace=True),\n",
    "            \n",
    "            # conv layer 2\n",
    "            nn.Conv2d(in_channels=128, out_channels=256, kernel_size=3, padding=1),\n",
    "            nn.ReLU(inplace=True),\n",
    "            \n",
    "            # conv layer 3\n",
    "            nn.Conv2d(in_channels=256, out_channels=512, kernel_size=3, padding=1),\n",
    "            nn.ReLU(inplace=True),\n",
    "            \n",
    "            # conv layer 4\n",
    "            nn.Conv2d(in_channels=512, out_channels=512, kernel_size=3, padding=1),\n",
    "            nn.MaxPool2d(kernel_size=2),\n",
    "            nn.ReLU(inplace=True),\n",
    "            )\n",
    "    \n",
    "        # classifier (hidden layers and neurons)\n",
    "        self.classifier = nn.Sequential(\n",
    "            \n",
    "            # hidden layer 1\n",
    "            nn.Dropout(0.3),\n",
    "            nn.Linear(512*7*7, 1024),\n",
    "            nn.ReLU(inplace=True),\n",
    "            \n",
    "            # hidden layer 2\n",
    "            nn.Dropout(0.3),\n",
    "            nn.Linear(in_features=1024, out_features=512),\n",
    "            nn.ReLU(inplace=True),\n",
    "                        \n",
    "    \n",
    "            # output layer\n",
    "            nn.Linear(512, output_dim)\n",
    "            )\n",
    "    def forward(self, x):\n",
    "        x = self.features(x)\n",
    "        h = x.view(x.shape[0], -1)\n",
    "        x = self.classifier(h)\n",
    "        return x, h"
   ]
  },
  {
   "cell_type": "markdown",
   "id": "3cc83bd5",
   "metadata": {},
   "source": [
    "Now we created our model. lets count the model parameters"
   ]
  },
  {
   "cell_type": "code",
   "execution_count": 10,
   "id": "a715084b",
   "metadata": {},
   "outputs": [
    {
     "name": "stdout",
     "output_type": "stream",
     "text": [
      "The model has 30,148,779 trainable parameters\n"
     ]
    }
   ],
   "source": [
    "# define a variable for the model\n",
    "model = Model(NUM_CLASSES)\n",
    "\n",
    "print(f'The model has {count_parameters(model):,} trainable parameters')"
   ]
  },
  {
   "cell_type": "markdown",
   "id": "0a202548",
   "metadata": {},
   "source": [
    "So we saw that the model has `20,449,579` trainable parameters. Now we have to define the optimizer and the loss function "
   ]
  },
  {
   "cell_type": "code",
   "execution_count": 11,
   "id": "c5612d88",
   "metadata": {},
   "outputs": [
    {
     "ename": "NameError",
     "evalue": "name 'loss_function' is not defined",
     "output_type": "error",
     "traceback": [
      "\u001b[1;31m---------------------------------------------------------------------------\u001b[0m",
      "\u001b[1;31mNameError\u001b[0m                                 Traceback (most recent call last)",
      "Input \u001b[1;32mIn [11]\u001b[0m, in \u001b[0;36m<module>\u001b[1;34m\u001b[0m\n\u001b[0;32m      7\u001b[0m \u001b[38;5;28;01mif\u001b[39;00m torch\u001b[38;5;241m.\u001b[39mcuda\u001b[38;5;241m.\u001b[39mis_available():\n\u001b[0;32m      8\u001b[0m     model \u001b[38;5;241m=\u001b[39m model\u001b[38;5;241m.\u001b[39mcuda()\n\u001b[1;32m----> 9\u001b[0m     loss_function \u001b[38;5;241m=\u001b[39m \u001b[43mloss_function\u001b[49m\u001b[38;5;241m.\u001b[39mcuda()\n",
      "\u001b[1;31mNameError\u001b[0m: name 'loss_function' is not defined"
     ]
    }
   ],
   "source": [
    "# define the optimizer \n",
    "optimizer = optim.Adam(model.parameters(), lr = LEARNING_RATE)\n",
    "# define the criterion\n",
    "criterion = nn.CrossEntropyLoss()\n",
    "\n",
    "# if CUDA is available  convert the model and loss to CUDA parameters \n",
    "if torch.cuda.is_available():\n",
    "    model = model.cuda()\n",
    "    loss_function = criterion.cuda()"
   ]
  },
  {
   "cell_type": "markdown",
   "id": "8a086dc3",
   "metadata": {},
   "source": [
    "The loss function and optimizer is ready now. But first lets see the model"
   ]
  },
  {
   "cell_type": "code",
   "execution_count": null,
   "id": "16dbd2c5",
   "metadata": {},
   "outputs": [],
   "source": [
    "print(f\"Model detailes: \\n {model}\")"
   ]
  },
  {
   "cell_type": "markdown",
   "id": "b7ba3559",
   "metadata": {},
   "source": [
    "See the model summary: "
   ]
  },
  {
   "cell_type": "code",
   "execution_count": null,
   "id": "8f642c0a",
   "metadata": {},
   "outputs": [],
   "source": [
    "print(summary(model, (3, 112, 112)))"
   ]
  },
  {
   "cell_type": "markdown",
   "id": "87196c08",
   "metadata": {},
   "source": [
    "Model state: "
   ]
  },
  {
   "cell_type": "code",
   "execution_count": 12,
   "id": "94fa8769",
   "metadata": {},
   "outputs": [
    {
     "name": "stdout",
     "output_type": "stream",
     "text": [
      "Model's state dict:\n",
      "features.0.weight \t torch.Size([64, 3, 3, 3])\n",
      "features.0.bias \t torch.Size([64])\n",
      "features.3.weight \t torch.Size([128, 64, 3, 3])\n",
      "features.3.bias \t torch.Size([128])\n",
      "features.6.weight \t torch.Size([256, 128, 3, 3])\n",
      "features.6.bias \t torch.Size([256])\n",
      "features.8.weight \t torch.Size([512, 256, 3, 3])\n",
      "features.8.bias \t torch.Size([512])\n",
      "features.10.weight \t torch.Size([512, 512, 3, 3])\n",
      "features.10.bias \t torch.Size([512])\n",
      "classifier.1.weight \t torch.Size([1024, 25088])\n",
      "classifier.1.bias \t torch.Size([1024])\n",
      "classifier.4.weight \t torch.Size([512, 1024])\n",
      "classifier.4.bias \t torch.Size([512])\n",
      "classifier.6.weight \t torch.Size([43, 512])\n",
      "classifier.6.bias \t torch.Size([43])\n",
      "\n"
     ]
    }
   ],
   "source": [
    "print(\"Model's state dict:\")\n",
    "for param_tensor in model.state_dict():\n",
    "    print(param_tensor, \"\\t\", model.state_dict()[param_tensor].size())\n",
    "print(\"\")"
   ]
  },
  {
   "cell_type": "markdown",
   "id": "d248cdb9",
   "metadata": {},
   "source": [
    "Optimizer details:"
   ]
  },
  {
   "cell_type": "code",
   "execution_count": 13,
   "id": "364211de",
   "metadata": {},
   "outputs": [
    {
     "name": "stdout",
     "output_type": "stream",
     "text": [
      "Optimizer details :\n",
      " Adam (\n",
      "Parameter Group 0\n",
      "    amsgrad: False\n",
      "    betas: (0.9, 0.999)\n",
      "    eps: 1e-08\n",
      "    lr: 0.001\n",
      "    weight_decay: 0\n",
      ")\n"
     ]
    }
   ],
   "source": [
    "print(f'Optimizer details :\\n {optimizer}')"
   ]
  },
  {
   "cell_type": "markdown",
   "id": "a2e5d708",
   "metadata": {},
   "source": [
    "### 4. Model training functinos"
   ]
  },
  {
   "cell_type": "code",
   "execution_count": 18,
   "id": "ebe065fe",
   "metadata": {},
   "outputs": [],
   "source": [
    "def calculate_accuracy(y_pred, y):\n",
    "    top_pred = y_pred.argmax(1, keepdim = True)\n",
    "    correct = top_pred.eq(y.view_as(top_pred)).sum()\n",
    "    acc = correct.float() / y.shape[0]\n",
    "    \n",
    "    return acc"
   ]
  },
  {
   "cell_type": "code",
   "execution_count": 19,
   "id": "b2b1b23f",
   "metadata": {},
   "outputs": [],
   "source": [
    "def train(model, loader, opt, criterion):\n",
    "    # define variables  for epoch loss and accuracy \n",
    "    epoch_loss = 0\n",
    "    epoch_acc = 0\n",
    "    \n",
    "    # Train the model\n",
    "    model.train()\n",
    "    \n",
    "    # loop over all images and labels\n",
    "    for (images, labels) in loader:\n",
    "        # convert images and labels to CUDA variables\n",
    "        images = images.cuda()\n",
    "        labels = labels.cuda()\n",
    "        \n",
    "        # Training pass\n",
    "        opt.zero_grad()\n",
    "        \n",
    "        # make predictions\n",
    "        output, _ = model(images)\n",
    "        # calculate the predictrion loss\n",
    "        loss = criterion(output, labels)\n",
    "        # Backpropagation\n",
    "        loss.backward()\n",
    "        # Calculate accuracy\n",
    "        acc = calculate_accuracy(output, labels)\n",
    "        \n",
    "        # optimize weights weights\n",
    "        opt.step()\n",
    "        \n",
    "        # add loss and accuracy to the epoch var \n",
    "        epoch_loss += loss.item()\n",
    "        epoch_acc += acc.item()\n",
    "        \n",
    "    return epoch_loss / len(loader), epoch_acc / len(loader)"
   ]
  },
  {
   "cell_type": "code",
   "execution_count": 20,
   "id": "bfb7f171",
   "metadata": {},
   "outputs": [],
   "source": [
    "def evaluate(model, loader, opt, criterion):\n",
    "    epoch_loss = 0\n",
    "    epoch_acc = 0\n",
    "    \n",
    "    # Evaluate the model\n",
    "    model.eval()\n",
    "    \n",
    "    # loop over all images\n",
    "    with torch.no_grad():\n",
    "        for (images, labels) in loader:\n",
    "            # convert images and labels to CUDA vars\n",
    "            images = images.cuda()\n",
    "            labels = labels.cuda()\n",
    "            \n",
    "            # make predictions\n",
    "            output, _ = model(images)\n",
    "            # calculate the loss \n",
    "            loss = criterion(output, labels)\n",
    "            # calculate accuracy\n",
    "            acc = calculate_accuracy(output, labels)\n",
    "            \n",
    "            # add loss and accuracy to the epoch var \n",
    "            epoch_loss += loss.item()\n",
    "            epoch_acc += acc.item()\n",
    "    \n",
    "    return epoch_loss / len(loader), epoch_acc / len(loader)"
   ]
  },
  {
   "cell_type": "markdown",
   "id": "ecac07b5",
   "metadata": {},
   "source": [
    "### 5. Train the model"
   ]
  },
  {
   "cell_type": "code",
   "execution_count": 21,
   "id": "f779afde",
   "metadata": {
    "scrolled": false
   },
   "outputs": [
    {
     "name": "stdout",
     "output_type": "stream",
     "text": [
      "Epoch-0: \n",
      "-----------------------------------------------------------------------------------------------------------------------\n",
      "Training loss : 3.318715841789556 |======| Training  accuracy : 0.1017287632798761\n",
      "validation loss : 2.394309589939733 |======| validation accuracy : 0.2695073245033141\n",
      "-----------------------------------------------------------------------------------------------------------------------\n",
      "\n",
      "Epoch-1: \n",
      "-----------------------------------------------------------------------------------------------------------------------\n",
      "Training loss : 1.810046583656373 |======| Training  accuracy : 0.390144358320934\n",
      "validation loss : 1.4018044971650647 |======| validation accuracy : 0.5248411345866418\n",
      "-----------------------------------------------------------------------------------------------------------------------\n",
      "\n",
      "Epoch-2: \n",
      "-----------------------------------------------------------------------------------------------------------------------\n",
      "Training loss : 1.1089337686213052 |======| Training  accuracy : 0.6184618288908548\n",
      "validation loss : 0.5708251076359903 |======| validation accuracy : 0.8131491811044754\n",
      "-----------------------------------------------------------------------------------------------------------------------\n",
      "\n",
      "Epoch-3: \n",
      "-----------------------------------------------------------------------------------------------------------------------\n",
      "Training loss : 0.42348018615711025 |======| Training  accuracy : 0.8534295583158974\n",
      "validation loss : 0.19187833705256063 |======| validation accuracy : 0.9354886566438982\n",
      "-----------------------------------------------------------------------------------------------------------------------\n",
      "\n",
      "Epoch-4: \n",
      "-----------------------------------------------------------------------------------------------------------------------\n",
      "Training loss : 0.16772551683148718 |======| Training  accuracy : 0.9450296129637618\n",
      "validation loss : 0.09462000922329965 |======| validation accuracy : 0.9682810594958644\n",
      "-----------------------------------------------------------------------------------------------------------------------\n",
      "\n",
      "Epoch-5: \n",
      "-----------------------------------------------------------------------------------------------------------------------\n",
      "Training loss : 0.09052722528576851 |======| Training  accuracy : 0.972138512909897\n",
      "validation loss : 0.058457175960704204 |======| validation accuracy : 0.9826762849284757\n",
      "-----------------------------------------------------------------------------------------------------------------------\n",
      "\n",
      "Epoch-6: \n",
      "-----------------------------------------------------------------------------------------------------------------------\n",
      "Training loss : 0.06287637495291912 |======| Training  accuracy : 0.9799192547798157\n",
      "validation loss : 0.034036959191003156 |======| validation accuracy : 0.9896848855480072\n",
      "-----------------------------------------------------------------------------------------------------------------------\n",
      "\n",
      "Epoch-7: \n",
      "-----------------------------------------------------------------------------------------------------------------------\n",
      "Training loss : 0.04131133287266745 |======| Training  accuracy : 0.9867742071306802\n",
      "validation loss : 0.04773169416453569 |======| validation accuracy : 0.985652627483491\n",
      "-----------------------------------------------------------------------------------------------------------------------\n",
      "\n",
      "Epoch-8: \n",
      "-----------------------------------------------------------------------------------------------------------------------\n",
      "Training loss : 0.035884951161811264 |======| Training  accuracy : 0.9882764467378942\n",
      "validation loss : 0.029903807436987277 |======| validation accuracy : 0.9918573287225538\n",
      "-----------------------------------------------------------------------------------------------------------------------\n",
      "\n",
      "Epoch-9: \n",
      "-----------------------------------------------------------------------------------------------------------------------\n",
      "Training loss : 0.025617779349923375 |======| Training  accuracy : 0.992505081300813\n",
      "validation loss : 0.032874124109624855 |======| validation accuracy : 0.9911969823222007\n",
      "-----------------------------------------------------------------------------------------------------------------------\n",
      "\n",
      "Epoch-10: \n",
      "-----------------------------------------------------------------------------------------------------------------------\n",
      "Training loss : 0.026901369634258553 |======| Training  accuracy : 0.9913617886178862\n",
      "validation loss : 0.025642832290501363 |======| validation accuracy : 0.9920614919354839\n",
      "-----------------------------------------------------------------------------------------------------------------------\n",
      "\n",
      "Epoch-11: \n",
      "-----------------------------------------------------------------------------------------------------------------------\n",
      "Training loss : 0.021591480067037653 |======| Training  accuracy : 0.9930449695121951\n",
      "validation loss : 0.029726620883710923 |======| validation accuracy : 0.9918094758064516\n",
      "-----------------------------------------------------------------------------------------------------------------------\n",
      "\n",
      "Epoch-12: \n",
      "-----------------------------------------------------------------------------------------------------------------------\n",
      "Training loss : 0.017713193468393652 |======| Training  accuracy : 0.9951997190956178\n",
      "validation loss : 0.017597398390212366 |======| validation accuracy : 0.994881522270941\n",
      "-----------------------------------------------------------------------------------------------------------------------\n",
      "\n",
      "Epoch-13: \n",
      "-----------------------------------------------------------------------------------------------------------------------\n",
      "Training loss : 0.01944301269070162 |======| Training  accuracy : 0.9938976357622844\n",
      "validation loss : 0.017761015209309276 |======| validation accuracy : 0.9945513490707644\n",
      "-----------------------------------------------------------------------------------------------------------------------\n",
      "\n",
      "Epoch-14: \n",
      "-----------------------------------------------------------------------------------------------------------------------\n",
      "Training loss : 0.016432299088200222 |======| Training  accuracy : 0.9945376016260162\n",
      "validation loss : 0.03188757905586352 |======| validation accuracy : 0.9905493951612904\n",
      "-----------------------------------------------------------------------------------------------------------------------\n",
      "\n",
      "Epoch-15: \n",
      "-----------------------------------------------------------------------------------------------------------------------\n",
      "Training loss : 0.02024120797035928 |======| Training  accuracy : 0.9936387669749376\n",
      "validation loss : 0.03214182779042711 |======| validation accuracy : 0.9908668091220241\n",
      "-----------------------------------------------------------------------------------------------------------------------\n",
      "\n",
      "Epoch-16: \n",
      "-----------------------------------------------------------------------------------------------------------------------\n",
      "Training loss : 0.016507479905106346 |======| Training  accuracy : 0.9952632353557804\n",
      "validation loss : 0.019814704388995925 |======| validation accuracy : 0.9934475806451613\n",
      "-----------------------------------------------------------------------------------------------------------------------\n",
      "\n",
      "Epoch-17: \n",
      "-----------------------------------------------------------------------------------------------------------------------\n",
      "Training loss : 0.019002787149378773 |======| Training  accuracy : 0.9943470528455285\n",
      "validation loss : 0.024805653006619504 |======| validation accuracy : 0.9942993329417321\n",
      "-----------------------------------------------------------------------------------------------------------------------\n",
      "\n",
      "Epoch-18: \n",
      "-----------------------------------------------------------------------------------------------------------------------\n",
      "Training loss : 0.01292978578336571 |======| Training  accuracy : 0.9958396849593496\n",
      "validation loss : 0.0171504961120175 |======| validation accuracy : 0.9948033651997966\n",
      "-----------------------------------------------------------------------------------------------------------------------\n",
      "\n",
      "Epoch-19: \n",
      "-----------------------------------------------------------------------------------------------------------------------\n",
      "Training loss : 0.013836395847743635 |======| Training  accuracy : 0.9960889467378942\n",
      "validation loss : 0.029454759953002774 |======| validation accuracy : 0.9914011474578611\n",
      "-----------------------------------------------------------------------------------------------------------------------\n",
      "\n",
      "Epoch-20: \n"
     ]
    },
    {
     "name": "stdout",
     "output_type": "stream",
     "text": [
      "-----------------------------------------------------------------------------------------------------------------------\n",
      "Training loss : 0.007556755626569427 |======| Training  accuracy : 0.997681656504065\n",
      "validation loss : 0.017822926379590025 |======| validation accuracy : 0.9957157258064516\n",
      "-----------------------------------------------------------------------------------------------------------------------\n",
      "\n",
      "Epoch-21: \n",
      "-----------------------------------------------------------------------------------------------------------------------\n",
      "Training loss : 0.007853914980257944 |======| Training  accuracy : 0.9975546239837398\n",
      "validation loss : 0.01502371459097166 |======| validation accuracy : 0.9957635787225538\n",
      "-----------------------------------------------------------------------------------------------------------------------\n",
      "\n"
     ]
    }
   ],
   "source": [
    "### Training \n",
    "# Perform training\n",
    "\n",
    "# List to save training and val loss and accuracies\n",
    "train_loss_list = [0]*EPOCHS\n",
    "train_acc_list = [0]*EPOCHS\n",
    "val_loss_list = [0]*EPOCHS\n",
    "val_acc_list = [0]*EPOCHS\n",
    "\n",
    "for epoch in range(EPOCHS):\n",
    "    print(\"Epoch-%d: \" % (epoch))\n",
    "    \n",
    "    # train start time\n",
    "    train_start_time = time.monotonic()\n",
    "    # start training \n",
    "    train_loss, train_acc = train(model, train_loader, optimizer, criterion)\n",
    "    # train end time \n",
    "    train_end_time = time.monotonic()\n",
    "    \n",
    "    # validation start time \n",
    "    val_start_time = time.monotonic()\n",
    "    # start evaluating \n",
    "    val_loss, val_acc = evaluate(model, validation_loader, optimizer, criterion)\n",
    "    # end validation time \n",
    "    val_end_time = time.monotonic()\n",
    "    \n",
    "    train_loss_list[epoch] = train_loss\n",
    "    train_acc_list[epoch] = train_acc\n",
    "    val_loss_list[epoch] = val_loss\n",
    "    val_acc_list[epoch] = val_acc\n",
    "\n",
    "    # print each epoch results\n",
    "    print(\"-----------------------------------------------------------------------------------------------------------------------\")\n",
    "    print(f\"Training loss : {train_loss} |======| Training  accuracy : {train_acc}\")\n",
    "    print(f\"validation loss : {val_loss} |======| validation accuracy : {val_acc}\")\n",
    "    print(\"-----------------------------------------------------------------------------------------------------------------------\")\n",
    "    print(\"\")"
   ]
  },
  {
   "cell_type": "markdown",
   "id": "1bcecd90",
   "metadata": {},
   "source": [
    "### 6. Save the trained model "
   ]
  },
  {
   "cell_type": "code",
   "execution_count": 24,
   "id": "613e8907",
   "metadata": {},
   "outputs": [
    {
     "name": "stdout",
     "output_type": "stream",
     "text": [
      "Model saved successfully!\n"
     ]
    }
   ],
   "source": [
    "# define the path to model \n",
    "path_to_model = \"model/Yasin-model.pth\"\n",
    "    \n",
    "# save the model\n",
    "torch.save(model.state_dict(), path_to_model)\n",
    "\n",
    "# if model saved succsessfull, print it\n",
    "if len(os.listdir(\"model\")) > 0:\n",
    "    print(\"Model saved successfully!\")"
   ]
  },
  {
   "cell_type": "code",
   "execution_count": 25,
   "id": "da6ee00f",
   "metadata": {},
   "outputs": [
    {
     "name": "stdout",
     "output_type": "stream",
     "text": [
      "['Yasin-model.pth']\n"
     ]
    }
   ],
   "source": [
    "# check again\n",
    "print(os.listdir(\"model\"))"
   ]
  },
  {
   "cell_type": "markdown",
   "id": "88574bd5",
   "metadata": {},
   "source": [
    "### 7.  Plot a graph of model accuracy and loss"
   ]
  },
  {
   "cell_type": "code",
   "execution_count": 26,
   "id": "29d7b823",
   "metadata": {},
   "outputs": [
    {
     "data": {
      "image/png": "[encoded data removed]",
      "text/plain": [
       "<Figure size 1080x360 with 2 Axes>"
      ]
     },
     "metadata": {},
     "output_type": "display_data"
    }
   ],
   "source": [
    "# det the seaborn for better graphics\n",
    "sb.set()\n",
    "\n",
    "# sub plots\n",
    "_, axs = plt.subplots(1, 2, figsize=(15, 5))\n",
    "\n",
    "### Loss plot \n",
    "# make it draw validation loss and training loss\n",
    "axs[0].plot(train_loss_list, label = \"Train info\")\n",
    "axs[0].plot(val_loss_list, label=\"Validation info\")\n",
    "# set the titles\n",
    "axs[0].set_title(\"Loss\")\n",
    "# set the y and x axises\n",
    "axs[0].set_xlabel(\"Epochs\")\n",
    "axs[0].set_ylabel(\"Loss\")\n",
    "guid = axs[0].legend(loc='upper right', shadow=False)\n",
    "\n",
    "### Accuracy plot\n",
    "# maske it validation and training accuracy\n",
    "axs[1].plot(train_acc_list, label = \"Train info\")\n",
    "axs[1].plot(val_acc_list, label = \"Validation  info\")\n",
    "# set the titles\n",
    "axs[1].set_title(\"Accuracy\")\n",
    "# set the y and x axises\n",
    "axs[1].set_xlabel(\"Epochs\")\n",
    "axs[1].set_ylabel(\"Accuracy\")\n",
    "guid = axs[1].legend(loc='center right', shadow=True)\n",
    "\n",
    "# save the plot\n",
    "plt.savefig(\"accuracy-loss.png\", bbox_inches = 'tight', pad_inches=0.5)"
   ]
  },
  {
   "cell_type": "code",
   "execution_count": null,
   "id": "41ec8322",
   "metadata": {},
   "outputs": [],
   "source": []
  }
 ],
 "metadata": {
  "kernelspec": {
   "display_name": "Python 3 (ipykernel)",
   "language": "python",
   "name": "python3"
  },
  "language_info": {
   "codemirror_mode": {
    "name": "ipython",
    "version": 3
   },
   "file_extension": ".py",
   "mimetype": "text/x-python",
   "name": "python",
   "nbconvert_exporter": "python",
   "pygments_lexer": "ipython3",
   "version": "3.8.8"
  }
 },
 "nbformat": 4,
 "nbformat_minor": 5
}
